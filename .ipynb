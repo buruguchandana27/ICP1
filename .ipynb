{
  "nbformat": 4,
  "nbformat_minor": 0,
  "metadata": {
    "colab": {
      "provenance": [],
      "authorship_tag": "ABX9TyNUVRpIe8KRLVgeP6kFgT3W",
      "include_colab_link": true
    },
    "kernelspec": {
      "name": "python3",
      "display_name": "Python 3"
    },
    "language_info": {
      "name": "python"
    }
  },
  "cells": [
    {
      "cell_type": "markdown",
      "metadata": {
        "id": "view-in-github",
        "colab_type": "text"
      },
      "source": [
        "<a href=\"https://colab.research.google.com/github/buruguchandana27/ICP1/blob/main/.ipynb\" target=\"_parent\"><img src=\"https://colab.research.google.com/assets/colab-badge.svg\" alt=\"Open In Colab\"/></a>"
      ]
    },
    {
      "cell_type": "code",
      "execution_count": 1,
      "metadata": {
        "colab": {
          "base_uri": "https://localhost:8080/"
        },
        "id": "GLTu0fz35LDr",
        "outputId": "8db18bee-1db0-4f88-fb6e-9cf66d05ac03"
      },
      "outputs": [
        {
          "output_type": "stream",
          "name": "stdout",
          "text": [
            "Enter your first name: chandana\n",
            "Enter your last name: burugu\n",
            "Full Name: chandana burugu\n",
            "Alternate Characters in Full Name: cadn uuu\n"
          ]
        }
      ],
      "source": [
        "# Define a function to concatenate first_name and last_name into a full name\n",
        "def fullname(first_name, last_name):\n",
        "    full_name = first_name + \" \" + last_name\n",
        "    return full_name\n",
        "\n",
        "# Define a function to return every other character in a given string\n",
        "def string_alternative(full_name):\n",
        "    alternate_chars = \"\"\n",
        "    for i in range(0, len(full_name), 2):\n",
        "        alternate_chars += full_name[i]\n",
        "    return alternate_chars\n",
        "\n",
        "# Main function to collect user input, process it, and display results\n",
        "def main():\n",
        "    # Prompt the user to enter their first name\n",
        "    first_name = input(\"Enter your first name: \")\n",
        "\n",
        "    # Prompt the user to enter their last name\n",
        "    last_name = input(\"Enter your last name: \")\n",
        "\n",
        "    # Call the fullname function to concatenate the first and last names\n",
        "    full_name = fullname(first_name, last_name)\n",
        "\n",
        "    # Display the full name\n",
        "    print(\"Full Name:\", full_name)\n",
        "\n",
        "    # Call the string_alternative function to get alternate characters in the full name\n",
        "    alternate_chars = string_alternative(full_name)\n",
        "\n",
        "    # Display the alternate characters in the full name\n",
        "    print(\"Alternate Characters in Full Name:\", alternate_chars)\n",
        "\n",
        "# Check if the script is run as the main program\n",
        "if __name__ == \"__main__\":\n",
        "    main()\n"
      ]
    },
    {
      "cell_type": "code",
      "source": [
        "import re\n",
        "\n",
        "# Function to count words in a line\n",
        "def count_words(line, word_counts):\n",
        "    # Use regular expression to split the line into words and exclude punctuation\n",
        "    words = re.findall(r'\\b\\w+\\b', line.lower())\n",
        "    for word in words:\n",
        "        word_counts[word] = word_counts.get(word, 0) + 1\n",
        "\n",
        "# Read input from input.txt file\n",
        "with open(\"/content/input.txt\", \"r\") as input_file:\n",
        "    lines = input_file.readlines()\n",
        "\n",
        "# Initialize a dictionary to store word counts\n",
        "word_counts = {}\n",
        "\n",
        "# Count words in the entire file\n",
        "for line in lines:\n",
        "    count_words(line.strip(), word_counts)\n",
        "\n",
        "# Print the original lines\n",
        "print(\"Input:\")\n",
        "for line in lines:\n",
        "    print(line.strip())\n",
        "\n",
        "# Print the word counts, displaying each word only once\n",
        "print(\"Word_Count:\")\n",
        "displayed_words = set()\n",
        "for line in lines:\n",
        "    words = re.findall(r'\\b\\w+\\b', line.lower())\n",
        "    for word in words:\n",
        "        if word not in displayed_words:\n",
        "            print(f\"{word}: {word_counts[word]}\")\n",
        "            displayed_words.add(word)\n",
        "\n",
        "# Write the output to output.txt file\n",
        "with open(\"output.txt\", \"w\") as output_file:\n",
        "    output_file.write(\"Input:\\n\")\n",
        "    for line in lines:\n",
        "        output_file.write(line.strip() + \"\\n\")\n",
        "    output_file.write(\"Word_Count:\\n\")\n",
        "    for word in displayed_words:\n",
        "        output_file.write(f\"{word}: {word_counts[word]}\\n\")\n",
        "\n",
        "print(\"Output saved to output.txt\")"
      ],
      "metadata": {
        "colab": {
          "base_uri": "https://localhost:8080/"
        },
        "id": "Dr-ekbiO-bVX",
        "outputId": "44c47f74-c4a4-4116-c453-b1d51fa6f299"
      },
      "execution_count": 14,
      "outputs": [
        {
          "output_type": "stream",
          "name": "stdout",
          "text": [
            "Input:\n",
            "Python Course\n",
            "Deep Learning Course\n",
            "Word_Count:\n",
            "python: 1\n",
            "course: 2\n",
            "deep: 1\n",
            "learning: 1\n",
            "Output saved to output.txt\n"
          ]
        }
      ]
    },
    {
      "cell_type": "markdown",
      "source": [
        "# New Section"
      ],
      "metadata": {
        "id": "rQ1j4Bdr_TtM"
      }
    },
    {
      "cell_type": "code",
      "source": [
        "\n",
        "import ast\n",
        "\n",
        "def centimeters_to_inches(centimeters):\n",
        "    return centimeters / 2.54\n",
        "\n",
        "# Function to read a list of heights from user input\n",
        "def get_heights():\n",
        "    input_string = input(\"Enter a list of heights in centimeters: \")\n",
        "    try:\n",
        "        # Safely evaluate the input string to a list\n",
        "        heights = ast.literal_eval(input_string)\n",
        "        if isinstance(heights, list) and all(isinstance(height, int) for height in heights):\n",
        "            return heights\n",
        "        else:\n",
        "            raise ValueError\n",
        "    except (ValueError, SyntaxError):\n",
        "        print(\"Invalid input. Please enter a valid list of integers.\")\n",
        "        return []\n",
        "\n",
        "# Read heights from user\n",
        "heights_cm = get_heights()\n",
        "\n",
        "# Convert to inches using a nested loop\n",
        "heights_in_inches_loop = []\n",
        "for height in heights_cm:\n",
        "    inches = centimeters_to_inches(height)\n",
        "    heights_in_inches_loop.append(round(inches, 2))\n",
        "\n",
        "# Convert to inches using list comprehension\n",
        "heights_in_inches_comprehension = [round(centimeters_to_inches(height), 2) for height in heights_cm]\n",
        "\n",
        "# Output\n",
        "print(\"Heights in Inches (Nested Loop):\", heights_in_inches_loop)\n",
        "print(\"Heights in Inches (List Comprehension):\", heights_in_inches_comprehension)"
      ],
      "metadata": {
        "colab": {
          "base_uri": "https://localhost:8080/",
          "height": 371
        },
        "id": "Mxk7E6Hg6WaW",
        "outputId": "50edccdf-16d9-4421-cf53-75fc33758f9f"
      },
      "execution_count": 7,
      "outputs": [
        {
          "output_type": "error",
          "ename": "KeyboardInterrupt",
          "evalue": "Interrupted by user",
          "traceback": [
            "\u001b[0;31m---------------------------------------------------------------------------\u001b[0m",
            "\u001b[0;31mKeyboardInterrupt\u001b[0m                         Traceback (most recent call last)",
            "\u001b[0;32m<ipython-input-7-4fb924d54ecb>\u001b[0m in \u001b[0;36m<cell line: 21>\u001b[0;34m()\u001b[0m\n\u001b[1;32m     19\u001b[0m \u001b[0;34m\u001b[0m\u001b[0m\n\u001b[1;32m     20\u001b[0m \u001b[0;31m# Read heights from user\u001b[0m\u001b[0;34m\u001b[0m\u001b[0;34m\u001b[0m\u001b[0m\n\u001b[0;32m---> 21\u001b[0;31m \u001b[0mheights_cm\u001b[0m \u001b[0;34m=\u001b[0m \u001b[0mget_heights\u001b[0m\u001b[0;34m(\u001b[0m\u001b[0;34m)\u001b[0m\u001b[0;34m\u001b[0m\u001b[0;34m\u001b[0m\u001b[0m\n\u001b[0m\u001b[1;32m     22\u001b[0m \u001b[0;34m\u001b[0m\u001b[0m\n\u001b[1;32m     23\u001b[0m \u001b[0;31m# Convert to inches using a nested loop\u001b[0m\u001b[0;34m\u001b[0m\u001b[0;34m\u001b[0m\u001b[0m\n",
            "\u001b[0;32m<ipython-input-7-4fb924d54ecb>\u001b[0m in \u001b[0;36mget_heights\u001b[0;34m()\u001b[0m\n\u001b[1;32m      6\u001b[0m \u001b[0;31m# Function to read a list of heights from user input\u001b[0m\u001b[0;34m\u001b[0m\u001b[0;34m\u001b[0m\u001b[0m\n\u001b[1;32m      7\u001b[0m \u001b[0;32mdef\u001b[0m \u001b[0mget_heights\u001b[0m\u001b[0;34m(\u001b[0m\u001b[0;34m)\u001b[0m\u001b[0;34m:\u001b[0m\u001b[0;34m\u001b[0m\u001b[0;34m\u001b[0m\u001b[0m\n\u001b[0;32m----> 8\u001b[0;31m     \u001b[0minput_string\u001b[0m \u001b[0;34m=\u001b[0m \u001b[0minput\u001b[0m\u001b[0;34m(\u001b[0m\u001b[0;34m\"Enter a list of heights in centimeters: \"\u001b[0m\u001b[0;34m)\u001b[0m\u001b[0;34m\u001b[0m\u001b[0;34m\u001b[0m\u001b[0m\n\u001b[0m\u001b[1;32m      9\u001b[0m     \u001b[0;32mtry\u001b[0m\u001b[0;34m:\u001b[0m\u001b[0;34m\u001b[0m\u001b[0;34m\u001b[0m\u001b[0m\n\u001b[1;32m     10\u001b[0m         \u001b[0;31m# Safely evaluate the input string to a list\u001b[0m\u001b[0;34m\u001b[0m\u001b[0;34m\u001b[0m\u001b[0m\n",
            "\u001b[0;32m/usr/local/lib/python3.10/dist-packages/ipykernel/kernelbase.py\u001b[0m in \u001b[0;36mraw_input\u001b[0;34m(self, prompt)\u001b[0m\n\u001b[1;32m    849\u001b[0m                 \u001b[0;34m\"raw_input was called, but this frontend does not support input requests.\"\u001b[0m\u001b[0;34m\u001b[0m\u001b[0;34m\u001b[0m\u001b[0m\n\u001b[1;32m    850\u001b[0m             )\n\u001b[0;32m--> 851\u001b[0;31m         return self._input_request(str(prompt),\n\u001b[0m\u001b[1;32m    852\u001b[0m             \u001b[0mself\u001b[0m\u001b[0;34m.\u001b[0m\u001b[0m_parent_ident\u001b[0m\u001b[0;34m,\u001b[0m\u001b[0;34m\u001b[0m\u001b[0;34m\u001b[0m\u001b[0m\n\u001b[1;32m    853\u001b[0m             \u001b[0mself\u001b[0m\u001b[0;34m.\u001b[0m\u001b[0m_parent_header\u001b[0m\u001b[0;34m,\u001b[0m\u001b[0;34m\u001b[0m\u001b[0;34m\u001b[0m\u001b[0m\n",
            "\u001b[0;32m/usr/local/lib/python3.10/dist-packages/ipykernel/kernelbase.py\u001b[0m in \u001b[0;36m_input_request\u001b[0;34m(self, prompt, ident, parent, password)\u001b[0m\n\u001b[1;32m    893\u001b[0m             \u001b[0;32mexcept\u001b[0m \u001b[0mKeyboardInterrupt\u001b[0m\u001b[0;34m:\u001b[0m\u001b[0;34m\u001b[0m\u001b[0;34m\u001b[0m\u001b[0m\n\u001b[1;32m    894\u001b[0m                 \u001b[0;31m# re-raise KeyboardInterrupt, to truncate traceback\u001b[0m\u001b[0;34m\u001b[0m\u001b[0;34m\u001b[0m\u001b[0m\n\u001b[0;32m--> 895\u001b[0;31m                 \u001b[0;32mraise\u001b[0m \u001b[0mKeyboardInterrupt\u001b[0m\u001b[0;34m(\u001b[0m\u001b[0;34m\"Interrupted by user\"\u001b[0m\u001b[0;34m)\u001b[0m \u001b[0;32mfrom\u001b[0m \u001b[0;32mNone\u001b[0m\u001b[0;34m\u001b[0m\u001b[0;34m\u001b[0m\u001b[0m\n\u001b[0m\u001b[1;32m    896\u001b[0m             \u001b[0;32mexcept\u001b[0m \u001b[0mException\u001b[0m \u001b[0;32mas\u001b[0m \u001b[0me\u001b[0m\u001b[0;34m:\u001b[0m\u001b[0;34m\u001b[0m\u001b[0;34m\u001b[0m\u001b[0m\n\u001b[1;32m    897\u001b[0m                 \u001b[0mself\u001b[0m\u001b[0;34m.\u001b[0m\u001b[0mlog\u001b[0m\u001b[0;34m.\u001b[0m\u001b[0mwarning\u001b[0m\u001b[0;34m(\u001b[0m\u001b[0;34m\"Invalid Message:\"\u001b[0m\u001b[0;34m,\u001b[0m \u001b[0mexc_info\u001b[0m\u001b[0;34m=\u001b[0m\u001b[0;32mTrue\u001b[0m\u001b[0;34m)\u001b[0m\u001b[0;34m\u001b[0m\u001b[0;34m\u001b[0m\u001b[0m\n",
            "\u001b[0;31mKeyboardInterrupt\u001b[0m: Interrupted by user"
          ]
        }
      ]
    }
  ]
}